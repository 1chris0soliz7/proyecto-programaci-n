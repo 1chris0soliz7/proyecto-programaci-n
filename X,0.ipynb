{
 "cells": [
  {
   "cell_type": "code",
   "execution_count": null,
   "id": "03d8e4b3",
   "metadata": {},
   "outputs": [],
   "source": [
    "        if resultado == \"X\" or resultado == \"O\":\n",
    "            imprimir_tablero(tablero)\n",
    "            print(f\"\\n¡Felicidades! El jugador {resultado} ha ganado!\")\n",
    "            break\n",
    "        elif resultado == \"Empate\":\n",
    "            imprimir_tablero(tablero)\n",
    "            print(\"\\n¡El juego ha terminado en empate!\")\n",
    "            break\n",
    "        \n",
    "        # Cambiar turnos entre X y O\n",
    "        jugador_actual = \"O\" if jugador_actual == \"X\" else \"X\"\n",
    "\n",
    "# Iniciar el juego \n",
    "juego_tres_en_raya()"
   ]
  }
 ],
 "metadata": {
  "kernelspec": {
   "display_name": "Python 3",
   "language": "python",
   "name": "python3"
  },
  "language_info": {
   "codemirror_mode": {
    "name": "ipython",
    "version": 3
   },
   "file_extension": ".py",
   "mimetype": "text/x-python",
   "name": "python",
   "nbconvert_exporter": "python",
   "pygments_lexer": "ipython3",
   "version": "3.13.2"
  }
 },
 "nbformat": 4,
 "nbformat_minor": 5
}
