{
 "cells": [
  {
   "cell_type": "code",
   "execution_count": null,
   "id": "d105c3ea",
   "metadata": {},
   "outputs": [],
   "source": [
    "def juego_tres_en_raya():\n",
    "    tablero = [\" \"] * 9\n",
    "    jugador_actual = \"X\"\n",
    "    \n",
    "    print(\"Bienvenido al Tres en Raya!\")\n",
    "    print(\"Para jugar ingresa un número del 1 al 9 según la posición:\")\n",
    "    print(\"\")\n",
    "    print(\"Posiciones del tablero:\")\n",
    "    imprimir_tablero([str(i+1) for i in range(9)])\n",
    "    \n",
    "    while True:\n",
    "        print(\"\\nTurno del jugador\", jugador_actual)\n",
    "        imprimir_tablero(tablero)\n",
    "        \n",
    "        while True:\n",
    "            try:\n",
    "                posicion = int(input(\"Elige una posición (1-9): \")) - 1\n",
    "                if posicion < 0 or posicion > 8:\n",
    "                    print(\"Por favor ingresa un número entre 1 y 9.\")\n",
    "                elif tablero[posicion] != \" \":\n",
    "                    print(\"Esa posición ya está ocupada. Elige otra.\")\n",
    "                else:\n",
    "                    break\n",
    "            except ValueError:\n",
    "                print(\"Por favor ingresa un número válido.\")\n",
    "        \n",
    "        tablero[posicion] = jugador_actual\n",
    "        \n",
    "        resultado = verificar_ganador(tablero)"
   ]
  }
 ],
 "metadata": {
  "language_info": {
   "name": "python"
  }
 },
 "nbformat": 4,
 "nbformat_minor": 5
}
