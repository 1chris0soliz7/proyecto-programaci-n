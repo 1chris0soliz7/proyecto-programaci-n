{
 "cells": [
  {
   "cell_type": "code",
   "execution_count": null,
   "id": "2f3db2aa",
   "metadata": {},
   "outputs": [],
   "source": [
    "def imprimir_tablero(tablero):\n",
    "    for i in range(0, 9, 3):\n",
    "        print(f\" {tablero[i]} | {tablero[i+1]} | {tablero[i+2]} \")\n",
    "        if i < 6:\n",
    "            print(\"-----------\")\n",
    "\n",
    "def verificar_ganador(tablero):\n",
    "    # Combinaciones ganadoras\n",
    "    lineas = [\n",
    "        [0, 1, 2], [3, 4, 5], [6, 7, 8],  # horizontales\n",
    "        [0, 3, 6], [1, 4, 7], [2, 5, 8],  # verticales\n",
    "        [0, 4, 8], [2, 4, 6]              # diagonales\n",
    "    ]\n",
    "    \n",
    "    for linea in lineas:\n",
    "        a, b, c = linea\n",
    "        if tablero[a] == tablero[b] == tablero[c] != \" \":\n",
    "            return tablero[a]\n",
    "    \n",
    "    if \" \" not in tablero:\n",
    "        return \"Empate\"\n",
    "    \n",
    "    return None\n",
    "\n",
    "if resultado == \"X\" or resultado == \"O\":\n",
    "        imprimir_tablero(tablero)\n",
    "        print(f\"\\n¡Felicidades! El jugador {resultado} ha ganado!\")\n",
    "        break\n",
    "elif resultado == \"Empate\":\n",
    "        imprimir_tablero(tablero)\n",
    "        print(\"\\n¡El juego ha terminado en empate!\")\n",
    "        break\n",
    "        \n",
    "        # Cambiar turnos entre X y O\n",
    "        jugador_actual = \"O\" if jugador_actual == \"X\" else \"X\"\n",
    "\n",
    "# Iniciar el juego \n",
    "juego_tres_en_raya()"
   ]
  }
 ],
 "metadata": {
  "kernelspec": {
   "display_name": "Python 3",
   "language": "python",
   "name": "python3"
  },
  "language_info": {
   "name": "python",
   "version": "3.11.9"
  }
 },
 "nbformat": 4,
 "nbformat_minor": 5
}
